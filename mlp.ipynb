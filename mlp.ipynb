{
 "cells": [
  {
   "cell_type": "code",
   "execution_count": 2,
   "metadata": {
    "collapsed": false
   },
   "outputs": [
    {
     "name": "stdout",
     "output_type": "stream",
     "text": [
      "Populating the interactive namespace from numpy and matplotlib\n"
     ]
    }
   ],
   "source": [
    "%pylab inline\n",
    "import numpy as np\n",
    "from sklearn import datasets "
   ]
  },
  {
   "cell_type": "code",
   "execution_count": 3,
   "metadata": {
    "collapsed": false
   },
   "outputs": [],
   "source": [
    "class Linear(object):\n",
    "    def __init__(self, n_in, n_out):\n",
    "        self.W = np.random.randn(n_out, n_in)\n",
    "        self.b = np.random.randn(n_out)\n",
    "        \n",
    "        self.input = np.zeros(n_in)\n",
    "        self.output = np.zeros(n_out)\n",
    "        \n",
    "        self.gradInput = np.zeros_like(self.input)\n",
    "        self.gradW = np.zeros_like(self.W)\n",
    "        self.gradb = np.zeros_like(self.b)\n",
    "        \n",
    "    def updateOutput(self, input):\n",
    "        self.input = input\n",
    "        self.output = np.dot(self.W, input) + self.b\n",
    "        return self.output\n",
    "    \n",
    "    def updateGradInput(self, gradOutput):\n",
    "        self.gradInput = np.dot(self.W.T, gradOutput)\n",
    "        return self.gradInput\n",
    "    \n",
    "    def updateGradWeight(self, gradOutput):\n",
    "        self.gradW = np.outer(gradOutput, self.input)\n",
    "        self.gradb = gradOutput\n",
    "        self.gradWeight = self.gradW, self.gradb\n",
    "        \n",
    "        return self.gradWeight"
   ]
  },
  {
   "cell_type": "code",
   "execution_count": 4,
   "metadata": {
    "collapsed": true
   },
   "outputs": [],
   "source": [
    "class Sigmoid(object):\n",
    "    def __init__(self, n_in):\n",
    "        self.input = np.zeros(n_in)\n",
    "        self.output = np.zeros(n_in)\n",
    "        self.gradInput = np.zeros_like(self.input)\n",
    "        \n",
    "    def updateOutput(self, input):\n",
    "        self.input = input\n",
    "        self.output = 1.0 / (1.0 + np.exp(-input))\n",
    "        return self.output\n",
    "    \n",
    "    def updateGradInput(self, gradOutput):\n",
    "        self.gradInput = gradOutput * self.output * (1.0 - self.output)\n",
    "        return self.gradInput\n",
    "    \n",
    "    def updateGradWeight(self, gradOutput):\n",
    "        self.gradWeight = ()\n",
    "        return self.gradWeight"
   ]
  },
  {
   "cell_type": "code",
   "execution_count": 5,
   "metadata": {
    "collapsed": true
   },
   "outputs": [],
   "source": [
    "class Softmax(object):\n",
    "    def __init__(self, n_in):\n",
    "        self.output = np.zeros(n_in)\n",
    "    \n",
    "    def updateOutput(self, input):\n",
    "        mx = input.max()\n",
    "        logsum = np.exp(-(mx - input)).sum()\n",
    "        logsum = mx + log(logsum)\n",
    "        self.output = input - logsum\n",
    "        \n",
    "        return self.output\n",
    "    \n",
    "    def updateGradInput(self, gradOutput):\n",
    "        sm = gradOutput.sum()\n",
    "        self.gradInput = gradOutput - np.exp(self.output) * sm\n",
    "        return self.gradInput\n",
    "    \n",
    "    def updateGradWeight(self, gradOutput):\n",
    "        self.gradWeight = ()\n",
    "        return self.gradWeight"
   ]
  },
  {
   "cell_type": "code",
   "execution_count": 6,
   "metadata": {
    "collapsed": false
   },
   "outputs": [],
   "source": [
    "class MSELoss(object):\n",
    "    def __init__(self, n_in):\n",
    "        self.n_in = n_in\n",
    "        self.output = 0.0\n",
    "        self.input = np.zeros(n_in)\n",
    "        \n",
    "    def updateOutput(self, input, target):\n",
    "        self.output = (1.0 / self.n_in) *np.sum((input - target)**2)\n",
    "        return self.output\n",
    "    \n",
    "    def updateGradInput(self, input, target):\n",
    "        self.gradInput = (2.0 / self.n_in) * (input - target)\n",
    "        return self.gradInput"
   ]
  },
  {
   "cell_type": "code",
   "execution_count": 7,
   "metadata": {
    "collapsed": true
   },
   "outputs": [],
   "source": [
    "class NLLLoss(object):\n",
    "    def __init__(self, n_in):\n",
    "        self.n_in = n_in\n",
    "        \n",
    "    def updateOutput(self, input, target):\n",
    "        self.output = -input[target]\n",
    "        return self.output\n",
    "    \n",
    "    def updateGradInput(self, input, target):\n",
    "        self.gradInput = np.zeros_like(input)\n",
    "        self.gradInput[target] = -1.0\n",
    "        return self.gradInput"
   ]
  },
  {
   "cell_type": "code",
   "execution_count": 13,
   "metadata": {
    "collapsed": true
   },
   "outputs": [],
   "source": [
    "class MLP(object):\n",
    "    def __init__(self, n_in, n_out):\n",
    "        self.modules = []\n",
    "        self.input = np.zeros(n_in)\n",
    "        self.output = np.zeros(n_out)\n",
    "        self.gradInput = np.zeros_like(self.input)\n",
    "        self.gradients = []\n",
    "        \n",
    "    def add(self, module):\n",
    "        self.modules.append(module)\n",
    "        \n",
    "    def forward(self, input):\n",
    "        self.input = input\n",
    "        self.output = input\n",
    "        for m in self.modules:\n",
    "            self.output = m.updateOutput(self.output)\n",
    "        return self.output\n",
    "    \n",
    "    def backward(self, gradOutput):\n",
    "        for m in reversed(self.modules):\n",
    "            self.gradients.insert(0, m.updateGradWeight(gradOutput))\n",
    "            gradOutput = m.updateGradInput(gradOutput)\n",
    "        return self.gradients\n",
    "    \n",
    "    def predict(self, input):\n",
    "        out = self.forward(input).argmax()\n",
    "        return out\n",
    "        #if out <= 0.5:\n",
    "        #    return 0\n",
    "        #return 1"
   ]
  },
  {
   "cell_type": "code",
   "execution_count": 14,
   "metadata": {
    "collapsed": false
   },
   "outputs": [],
   "source": [
    "model = MLP(2, 1)\n",
    "model.add(Linear(2,500))\n",
    "model.add(Sigmoid(500))\n",
    "model.add(Linear(500,3))\n",
    "model.add(Softmax(3))\n",
    "criterion = NLLLoss(2)"
   ]
  },
  {
   "cell_type": "code",
   "execution_count": 19,
   "metadata": {
    "collapsed": false
   },
   "outputs": [
    {
     "data": {
      "text/plain": [
       "<matplotlib.collections.PathCollection at 0x13fd24ed0>"
      ]
     },
     "execution_count": 19,
     "metadata": {},
     "output_type": "execute_result"
    },
    {
     "data": {
      "image/png": "[encoded data removed]",
      "text/plain": [
       "<matplotlib.figure.Figure at 0x109170f50>"
      ]
     },
     "metadata": {},
     "output_type": "display_data"
    }
   ],
   "source": [
    "(easy_x, easy_y) = datasets.make_classification(n_samples=400, n_features = 2, n_classes = 3, n_informative = 2,\n",
    "                             n_redundant = 0, n_repeated = 0, n_clusters_per_class=1, class_sep=2)\n",
    "scatter(easy_x[:,0], easy_x[:,1], c = easy_y, cmap = 'cool')"
   ]
  },
  {
   "cell_type": "code",
   "execution_count": 20,
   "metadata": {
    "collapsed": false
   },
   "outputs": [],
   "source": [
    "# training\n",
    "for i in range(100):\n",
    "    for j in range(easy_x.shape[0]):\n",
    "        prediction = model.forward(easy_x[j])\n",
    "        err = criterion.updateOutput(prediction, easy_y[j])\n",
    "        df_do = criterion.updateGradInput(prediction, easy_y[j])\n",
    "        grads = model.backward(df_do)\n",
    "        \n",
    "        for k,m in enumerate(model.modules):\n",
    "            if m.gradWeight != ():\n",
    "                m.W -= 1e-3 * grads[k][0]\n",
    "                m.b -= 1e-3 * grads[k][1]"
   ]
  },
  {
   "cell_type": "code",
   "execution_count": 21,
   "metadata": {
    "collapsed": false
   },
   "outputs": [
    {
     "data": {
      "text/plain": [
       "<matplotlib.collections.PathCollection at 0x179d85f50>"
      ]
     },
     "execution_count": 21,
     "metadata": {},
     "output_type": "execute_result"
    },
    {
     "data": {
      "image/png": "[encoded data removed]",
      "text/plain": [
       "<matplotlib.figure.Figure at 0x109170ed0>"
      ]
     },
     "metadata": {},
     "output_type": "display_data"
    }
   ],
   "source": [
    "h = 0.05 # mesh size\n",
    "x_min, x_max = easy_x[:, 0].min() - 1, easy_x[:,0].max() + 1\n",
    "y_min, y_max = easy_x[:, 1].min() - 1, easy_x[:,1].max() + 1\n",
    "xx, yy = np.meshgrid(np.arange(x_min, x_max, h), np.arange(y_min, y_max, h))\n",
    "Z = []\n",
    "for pt in np.c_[xx.ravel(), yy.ravel()]:\n",
    "    Z.append(model.predict(pt))\n",
    "Z = np.asarray(Z)\n",
    "Z = Z.reshape(xx.shape)\n",
    "figure()\n",
    "pcolormesh(xx,yy, Z, cmap='cool')\n",
    "\n",
    "scatter(easy_x[:,0], easy_x[:,1], c=easy_y, cmap='cool')"
   ]
  },
  {
   "cell_type": "code",
   "execution_count": null,
   "metadata": {
    "collapsed": true
   },
   "outputs": [],
   "source": []
  }
 ],
 "metadata": {
  "kernelspec": {
   "display_name": "Python 2",
   "language": "python",
   "name": "python2"
  },
  "language_info": {
   "codemirror_mode": {
    "name": "ipython",
    "version": 2
   },
   "file_extension": ".py",
   "mimetype": "text/x-python",
   "name": "python",
   "nbconvert_exporter": "python",
   "pygments_lexer": "ipython2",
   "version": "2.7.10"
  }
 },
 "nbformat": 4,
 "nbformat_minor": 0
}
